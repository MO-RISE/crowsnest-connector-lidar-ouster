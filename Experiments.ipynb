{
 "cells": [
  {
   "attachments": {},
   "cell_type": "markdown",
   "metadata": {},
   "source": [
    "# Experiments\n"
   ]
  },
  {
   "cell_type": "code",
   "execution_count": 2,
   "metadata": {},
   "outputs": [],
   "source": [
    "from ouster import client"
   ]
  },
  {
   "attachments": {},
   "cell_type": "markdown",
   "metadata": {},
   "source": [
    "### Config and setup \n",
    "\n",
    "**Mode options:**\n",
    "- MODE_UNKNOWN\n",
    "- MODE_512x10\n",
    "- MODE_512x20\n",
    "- MODE_1024x10\n",
    "- MODE_1024x20\n",
    "- MODE_2048x10\n",
    "- MODE_4096x5\n",
    "- MODE_UNSPEC\n",
    "\n",
    "\n"
   ]
  },
  {
   "cell_type": "code",
   "execution_count": 3,
   "metadata": {},
   "outputs": [],
   "source": [
    "os_ip_address = '10.10.40.2'\n",
    "\n",
    "config = client.SensorConfig()\n",
    "config.udp_port_lidar = 7502\n",
    "config.udp_port_imu = 7503\n",
    "config.operating_mode = client.OperatingMode.OPERATING_NORMAL\n",
    "config.lidar_mode = client.LidarMode.MODE_1024x10\n",
    "\n",
    "client.set_config(os_ip_address, config, persist=True, udp_dest_auto = True)"
   ]
  },
  {
   "cell_type": "code",
   "execution_count": 4,
   "metadata": {},
   "outputs": [
    {
     "name": "stdout",
     "output_type": "stream",
     "text": [
      "[2023-07-02 13:02:16.756] [ouster::sensor] [info] initializing sensor: 10.10.40.2 with lidar port/imu port: 7502/7503\n"
     ]
    },
    {
     "data": {
      "text/plain": [
       "<LidarMode.MODE_1024x10: 3>"
      ]
     },
     "execution_count": 4,
     "metadata": {},
     "output_type": "execute_result"
    }
   ],
   "source": [
    "source = client.Sensor(os_ip_address, 7502, 7503)\n",
    "info = source.metadata\n",
    "info.mode"
   ]
  },
  {
   "cell_type": "code",
   "execution_count": 7,
   "metadata": {},
   "outputs": [],
   "source": [
    "\n",
    "# Save metadata to a file\n",
    "source.write_metadata(f\"{os_ip_address}.json\")"
   ]
  },
  {
   "attachments": {},
   "cell_type": "markdown",
   "metadata": {},
   "source": [
    "## Record sensor data to file "
   ]
  },
  {
   "cell_type": "code",
   "execution_count": 8,
   "metadata": {},
   "outputs": [],
   "source": [
    "pcap_path = './data'\n",
    "metadata_path = './data'"
   ]
  },
  {
   "cell_type": "code",
   "execution_count": 11,
   "metadata": {},
   "outputs": [
    {
     "name": "stdout",
     "output_type": "stream",
     "text": [
      "[2023-07-02 13:04:57.769] [ouster::sensor] [info] initializing sensor: 10.10.40.2 with lidar port/imu port: 7502/7503\n"
     ]
    },
    {
     "data": {
      "text/plain": [
       "<matplotlib.image.AxesImage at 0x7fbf8771e400>"
      ]
     },
     "execution_count": 11,
     "metadata": {},
     "output_type": "execute_result"
    },
    {
     "data": {
      "image/png": "[encoded data removed]",
      "text/plain": [
       "<Figure size 640x480 with 1 Axes>"
      ]
     },
     "metadata": {},
     "output_type": "display_data"
    }
   ],
   "source": [
    "import matplotlib.pyplot as plt\n",
    "from more_itertools import nth\n",
    "\n",
    "source = client.Sensor(os_ip_address, 7502, 7503)\n",
    "\n",
    "scans = client.Scans(source)\n",
    "\n",
    "# iterate `scans` and get the 84th LidarScan (it can be different with your data)\n",
    "scan = nth(scans, 84)\n",
    "ranges = scan.field(client.ChanField.RANGE)\n",
    "\n",
    "# destagger ranges, notice `metadata` use, that is needed to get\n",
    "# sensor intrinsics and correctly data transforms\n",
    "ranges_destaggered = client.destagger(source.metadata, ranges)\n",
    "\n",
    "plt.imshow(ranges_destaggered, cmap='gray', resample=False)"
   ]
  },
  {
   "cell_type": "code",
   "execution_count": 10,
   "metadata": {},
   "outputs": [
    {
     "name": "stdout",
     "output_type": "stream",
     "text": [
      "[2023-07-02 13:03:56.433] [ouster::sensor] [info] initializing sensor: 10.10.40.2 with lidar port/imu port: 7502/7503\n",
      "Saving sensor metadata to: OS-1-128_122141001098_1024x10_20230702_130432.json\n",
      "Writing to: OS-1-128_122141001098_1024x10_20230702_130432.pcap (Ctrl-C to stop early)\n",
      "Captured 6090 packets\n"
     ]
    }
   ],
   "source": [
    "from more_itertools import time_limited\n",
    "from datetime import datetime\n",
    "from ouster import pcap\n",
    "# connect to sensor and record lidar/imu packets\n",
    "\n",
    "\n",
    "source = client.Sensor(os_ip_address, 7502, 7503, buf_size=640)\n",
    "\n",
    "n_seconds = 10 # Time limit in seconds\n",
    "\n",
    "# make a descriptive filename for metadata/pcap files\n",
    "time_part = datetime.now().strftime(\"%Y%m%d_%H%M%S\")\n",
    "meta = source.metadata\n",
    "fname_base = f\"{meta.prod_line}_{meta.sn}_{meta.mode}_{time_part}\"\n",
    "\n",
    "print(f\"Saving sensor metadata to: {fname_base}.json\")\n",
    "source.write_metadata(f\"{fname_base}.json\")\n",
    "\n",
    "print(f\"Writing to: {fname_base}.pcap (Ctrl-C to stop early)\")\n",
    "source_it = time_limited(n_seconds, source)\n",
    "\n",
    "n_packets = pcap.record(source_it, f\"{fname_base}.pcap\")\n",
    "\n",
    "print(f\"Captured {n_packets} packets\")"
   ]
  },
  {
   "cell_type": "code",
   "execution_count": null,
   "metadata": {},
   "outputs": [],
   "source": []
  }
 ],
 "metadata": {
  "kernelspec": {
   "display_name": "env",
   "language": "python",
   "name": "python3"
  },
  "language_info": {
   "codemirror_mode": {
    "name": "ipython",
    "version": 3
   },
   "file_extension": ".py",
   "mimetype": "text/x-python",
   "name": "python",
   "nbconvert_exporter": "python",
   "pygments_lexer": "ipython3",
   "version": "3.9.17"
  },
  "orig_nbformat": 4
 },
 "nbformat": 4,
 "nbformat_minor": 2
}
