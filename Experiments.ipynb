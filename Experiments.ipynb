{
 "cells": [
  {
   "attachments": {},
   "cell_type": "markdown",
   "metadata": {},
   "source": [
    "# Experiments\n"
   ]
  },
  {
   "cell_type": "code",
   "execution_count": 1,
   "metadata": {},
   "outputs": [],
   "source": [
    "from ouster import client"
   ]
  },
  {
   "attachments": {},
   "cell_type": "markdown",
   "metadata": {},
   "source": [
    "### Config and setup \n",
    "\n",
    "**Mode options:**\n",
    "- MODE_UNKNOWN\n",
    "- MODE_512x10\n",
    "- MODE_512x20\n",
    "- MODE_1024x10\n",
    "- MODE_1024x20\n",
    "- MODE_2048x10\n",
    "- MODE_4096x5\n",
    "- MODE_UNSPEC\n",
    "\n",
    "\n"
   ]
  },
  {
   "cell_type": "code",
   "execution_count": 2,
   "metadata": {},
   "outputs": [],
   "source": [
    "os_ip_address = '10.10.40.2'\n",
    "\n",
    "config = client.SensorConfig()\n",
    "config.udp_port_lidar = 7502\n",
    "config.udp_port_imu = 7503\n",
    "config.operating_mode = client.OperatingMode.OPERATING_NORMAL\n",
    "config.lidar_mode = client.LidarMode.MODE_1024x10\n",
    "\n",
    "client.set_config(os_ip_address, config, persist=True, udp_dest_auto = True)"
   ]
  },
  {
   "cell_type": "code",
   "execution_count": 9,
   "metadata": {},
   "outputs": [
    {
     "data": {
      "text/plain": [
       "<LidarMode.MODE_1024x10: 3>"
      ]
     },
     "execution_count": 9,
     "metadata": {},
     "output_type": "execute_result"
    }
   ],
   "source": [
    "source = client.Sensor(os_ip_address, 7502, 7503)\n",
    "info = source.metadata\n",
    "info.mode"
   ]
  },
  {
   "cell_type": "code",
   "execution_count": 19,
   "metadata": {},
   "outputs": [],
   "source": [
    "\n",
    "# Save metadata to a file\n",
    "source.write_metadata(f\"{os_ip_address}.json\")"
   ]
  },
  {
   "cell_type": "code",
   "execution_count": 26,
   "metadata": {},
   "outputs": [
    {
     "ename": "TypeError",
     "evalue": "__init__(): incompatible constructor arguments. The following argument types are supported:\n    1. ouster.client._client.SensorInfo()\n    2. ouster.client._client.SensorInfo(arg0: str)\n\nInvoked with: <ouster.client.SensorInfo OS-1-128 122141001098 v2.5.1 1024x10>",
     "output_type": "error",
     "traceback": [
      "\u001b[1;31m---------------------------------------------------------------------------\u001b[0m",
      "\u001b[1;31mTypeError\u001b[0m                                 Traceback (most recent call last)",
      "Cell \u001b[1;32mIn[26], line 1\u001b[0m\n\u001b[1;32m----> 1\u001b[0m client\u001b[39m.\u001b[39;49mSensorInfo(source\u001b[39m.\u001b[39;49mmetadata)\n",
      "\u001b[1;31mTypeError\u001b[0m: __init__(): incompatible constructor arguments. The following argument types are supported:\n    1. ouster.client._client.SensorInfo()\n    2. ouster.client._client.SensorInfo(arg0: str)\n\nInvoked with: <ouster.client.SensorInfo OS-1-128 122141001098 v2.5.1 1024x10>"
     ]
    }
   ],
   "source": [
    "client.SensorInfo(source.metadata)\n"
   ]
  },
  {
   "attachments": {},
   "cell_type": "markdown",
   "metadata": {},
   "source": [
    "## Record sensor data to file "
   ]
  },
  {
   "cell_type": "code",
   "execution_count": null,
   "metadata": {},
   "outputs": [],
   "source": [
    "pcap_path = './data'\n",
    "metadata_path = './data'"
   ]
  },
  {
   "cell_type": "code",
   "execution_count": 27,
   "metadata": {},
   "outputs": [
    {
     "data": {
      "text/plain": [
       "<matplotlib.image.AxesImage at 0x13a5ec6e350>"
      ]
     },
     "execution_count": 27,
     "metadata": {},
     "output_type": "execute_result"
    },
    {
     "data": {
      "image/png": "[encoded data removed]",
      "text/plain": [
       "<Figure size 640x480 with 1 Axes>"
      ]
     },
     "metadata": {},
     "output_type": "display_data"
    }
   ],
   "source": [
    "import matplotlib.pyplot as plt\n",
    "from more_itertools import nth\n",
    "\n",
    "source = client.Sensor(os_ip_address, 7502, 7503)\n",
    "\n",
    "scans = client.Scans(source)\n",
    "\n",
    "# iterate `scans` and get the 84th LidarScan (it can be different with your data)\n",
    "scan = nth(scans, 84)\n",
    "ranges = scan.field(client.ChanField.RANGE)\n",
    "\n",
    "# destagger ranges, notice `metadata` use, that is needed to get\n",
    "# sensor intrinsics and correctly data transforms\n",
    "ranges_destaggered = client.destagger(source.metadata, ranges)\n",
    "\n",
    "plt.imshow(ranges_destaggered, cmap='gray', resample=False)"
   ]
  },
  {
   "cell_type": "code",
   "execution_count": 31,
   "metadata": {},
   "outputs": [
    {
     "name": "stdout",
     "output_type": "stream",
     "text": [
      "Saving sensor metadata to: OS-1-128_122141001098_1024x10_20230702_094552.json\n",
      "Writing to: OS-1-128_122141001098_1024x10_20230702_094552.pcap (Ctrl-C to stop early)\n"
     ]
    },
    {
     "ename": "ClientTimeout",
     "evalue": "No packets received within 2.0s",
     "output_type": "error",
     "traceback": [
      "\u001b[1;31m---------------------------------------------------------------------------\u001b[0m",
      "\u001b[1;31mClientTimeout\u001b[0m                             Traceback (most recent call last)",
      "Cell \u001b[1;32mIn[31], line 21\u001b[0m\n\u001b[0;32m     19\u001b[0m \u001b[39mprint\u001b[39m(\u001b[39mf\u001b[39m\u001b[39m\"\u001b[39m\u001b[39mWriting to: \u001b[39m\u001b[39m{\u001b[39;00mfname_base\u001b[39m}\u001b[39;00m\u001b[39m.pcap (Ctrl-C to stop early)\u001b[39m\u001b[39m\"\u001b[39m)\n\u001b[0;32m     20\u001b[0m source_it \u001b[39m=\u001b[39m time_limited(n_seconds, source)\n\u001b[1;32m---> 21\u001b[0m n_packets \u001b[39m=\u001b[39m pcap\u001b[39m.\u001b[39;49mrecord(source_it, \u001b[39mf\u001b[39;49m\u001b[39m\"\u001b[39;49m\u001b[39m{\u001b[39;49;00mfname_base\u001b[39m}\u001b[39;49;00m\u001b[39m.pcap\u001b[39;49m\u001b[39m\"\u001b[39;49m)\n\u001b[0;32m     23\u001b[0m \u001b[39mprint\u001b[39m(\u001b[39mf\u001b[39m\u001b[39m\"\u001b[39m\u001b[39mCaptured \u001b[39m\u001b[39m{\u001b[39;00mn_packets\u001b[39m}\u001b[39;00m\u001b[39m packets\u001b[39m\u001b[39m\"\u001b[39m)\n",
      "File \u001b[1;32mq:\\CROWSNEST\\crowsnest-connector-lidar-ouster\\env\\lib\\site-packages\\ouster\\pcap\\pcap.py:262\u001b[0m, in \u001b[0;36mrecord\u001b[1;34m(packets, pcap_path, src_ip, dst_ip, lidar_port, imu_port, use_sll_encapsulation)\u001b[0m\n\u001b[0;32m    259\u001b[0m handle \u001b[39m=\u001b[39m _pcap\u001b[39m.\u001b[39mrecord_initialize(pcap_path, MTU_SIZE,\n\u001b[0;32m    260\u001b[0m                                  use_sll_encapsulation)\n\u001b[0;32m    261\u001b[0m \u001b[39mtry\u001b[39;00m:\n\u001b[1;32m--> 262\u001b[0m     \u001b[39mfor\u001b[39;00m packet \u001b[39min\u001b[39;00m packets:\n\u001b[0;32m    263\u001b[0m         \u001b[39mif\u001b[39;00m \u001b[39misinstance\u001b[39m(packet, LidarPacket):\n\u001b[0;32m    264\u001b[0m             src_port \u001b[39m=\u001b[39m lidar_port\n",
      "File \u001b[1;32mq:\\CROWSNEST\\crowsnest-connector-lidar-ouster\\env\\lib\\site-packages\\more_itertools\\more.py:3223\u001b[0m, in \u001b[0;36mtime_limited.__next__\u001b[1;34m(self)\u001b[0m\n\u001b[0;32m   3222\u001b[0m \u001b[39mdef\u001b[39;00m \u001b[39m__next__\u001b[39m(\u001b[39mself\u001b[39m):\n\u001b[1;32m-> 3223\u001b[0m     item \u001b[39m=\u001b[39m \u001b[39mnext\u001b[39;49m(\u001b[39mself\u001b[39;49m\u001b[39m.\u001b[39;49m_iterable)\n\u001b[0;32m   3224\u001b[0m     \u001b[39mif\u001b[39;00m monotonic() \u001b[39m-\u001b[39m \u001b[39mself\u001b[39m\u001b[39m.\u001b[39m_start_time \u001b[39m>\u001b[39m \u001b[39mself\u001b[39m\u001b[39m.\u001b[39mlimit_seconds:\n\u001b[0;32m   3225\u001b[0m         \u001b[39mself\u001b[39m\u001b[39m.\u001b[39mtimed_out \u001b[39m=\u001b[39m \u001b[39mTrue\u001b[39;00m\n",
      "File \u001b[1;32mq:\\CROWSNEST\\crowsnest-connector-lidar-ouster\\env\\lib\\site-packages\\ouster\\client\\core.py:257\u001b[0m, in \u001b[0;36mSensor.__iter__\u001b[1;34m(self)\u001b[0m\n\u001b[0;32m    255\u001b[0m \u001b[39m# Attempt to flush any old data before producing packets\u001b[39;00m\n\u001b[0;32m    256\u001b[0m \u001b[39mif\u001b[39;00m \u001b[39mself\u001b[39m\u001b[39m.\u001b[39m_flush_before_read:\n\u001b[1;32m--> 257\u001b[0m     \u001b[39mself\u001b[39;49m\u001b[39m.\u001b[39;49mflush(n_frames\u001b[39m=\u001b[39;49m\u001b[39mself\u001b[39;49m\u001b[39m.\u001b[39;49m_flush_frames, full\u001b[39m=\u001b[39;49m\u001b[39mTrue\u001b[39;49;00m)\n\u001b[0;32m    259\u001b[0m \u001b[39mwhile\u001b[39;00m \u001b[39mTrue\u001b[39;00m:\n\u001b[0;32m    260\u001b[0m     \u001b[39mtry\u001b[39;00m:\n",
      "File \u001b[1;32mq:\\CROWSNEST\\crowsnest-connector-lidar-ouster\\env\\lib\\site-packages\\ouster\\client\\core.py:317\u001b[0m, in \u001b[0;36mSensor.flush\u001b[1;34m(self, n_frames, full)\u001b[0m\n\u001b[0;32m    314\u001b[0m \u001b[39m# check for timeout\u001b[39;00m\n\u001b[0;32m    315\u001b[0m \u001b[39mif\u001b[39;00m \u001b[39mself\u001b[39m\u001b[39m.\u001b[39m_timeout \u001b[39mis\u001b[39;00m \u001b[39mnot\u001b[39;00m \u001b[39mNone\u001b[39;00m \u001b[39mand\u001b[39;00m (time\u001b[39m.\u001b[39mmonotonic() \u001b[39m>\u001b[39m\u001b[39m=\u001b[39m\n\u001b[0;32m    316\u001b[0m                                   last_ts \u001b[39m+\u001b[39m \u001b[39mself\u001b[39m\u001b[39m.\u001b[39m_timeout):\n\u001b[1;32m--> 317\u001b[0m     \u001b[39mraise\u001b[39;00m ClientTimeout(\n\u001b[0;32m    318\u001b[0m         \u001b[39mf\u001b[39m\u001b[39m\"\u001b[39m\u001b[39mNo packets received within \u001b[39m\u001b[39m{\u001b[39;00m\u001b[39mself\u001b[39m\u001b[39m.\u001b[39m_timeout\u001b[39m}\u001b[39;00m\u001b[39ms\u001b[39m\u001b[39m\"\u001b[39m)\n\u001b[0;32m    320\u001b[0m \u001b[39m# drop cached packet\u001b[39;00m\n\u001b[0;32m    321\u001b[0m \u001b[39mself\u001b[39m\u001b[39m.\u001b[39m_cache \u001b[39m=\u001b[39m \u001b[39mNone\u001b[39;00m\n",
      "\u001b[1;31mClientTimeout\u001b[0m: No packets received within 2.0s"
     ]
    }
   ],
   "source": [
    "from more_itertools import time_limited\n",
    "from datetime import datetime\n",
    "from ouster import pcap\n",
    "# connect to sensor and record lidar/imu packets\n",
    "\n",
    "\n",
    "source = client.Sensor(os_ip_address, 7502, 7503, buf_size=640)\n",
    "\n",
    "n_seconds = 10 # Time limit in seconds\n",
    "\n",
    "# make a descriptive filename for metadata/pcap files\n",
    "time_part = datetime.now().strftime(\"%Y%m%d_%H%M%S\")\n",
    "meta = source.metadata\n",
    "fname_base = f\"{meta.prod_line}_{meta.sn}_{meta.mode}_{time_part}\"\n",
    "\n",
    "print(f\"Saving sensor metadata to: {fname_base}.json\")\n",
    "source.write_metadata(f\"{fname_base}.json\")\n",
    "\n",
    "print(f\"Writing to: {fname_base}.pcap (Ctrl-C to stop early)\")\n",
    "source_it = time_limited(n_seconds, source)\n",
    "\n",
    "n_packets = pcap.record(source_it, f\"{fname_base}.pcap\")\n",
    "\n",
    "print(f\"Captured {n_packets} packets\")"
   ]
  },
  {
   "cell_type": "code",
   "execution_count": null,
   "metadata": {},
   "outputs": [],
   "source": []
  }
 ],
 "metadata": {
  "kernelspec": {
   "display_name": "env",
   "language": "python",
   "name": "python3"
  },
  "language_info": {
   "codemirror_mode": {
    "name": "ipython",
    "version": 3
   },
   "file_extension": ".py",
   "mimetype": "text/x-python",
   "name": "python",
   "nbconvert_exporter": "python",
   "pygments_lexer": "ipython3",
   "version": "3.10.11"
  },
  "orig_nbformat": 4
 },
 "nbformat": 4,
 "nbformat_minor": 2
}
